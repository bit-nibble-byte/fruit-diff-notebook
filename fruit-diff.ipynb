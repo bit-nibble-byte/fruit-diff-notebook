{
 "cells": [
  {
   "cell_type": "code",
   "execution_count": 1,
   "id": "d44f0d10",
   "metadata": {},
   "outputs": [],
   "source": [
    "%load_ext sql\n"
   ]
  },
  {
   "cell_type": "code",
   "execution_count": 2,
   "id": "3c57a9c6",
   "metadata": {},
   "outputs": [
    {
     "data": {
      "text/html": [
       "<style>table {float:left}</style>\n"
      ],
      "text/plain": [
       "<IPython.core.display.HTML object>"
      ]
     },
     "metadata": {},
     "output_type": "display_data"
    }
   ],
   "source": [
    "%%html\n",
    "<style>table {float:left}</style>"
   ]
  },
  {
   "cell_type": "markdown",
   "id": "9a7cbce3",
   "metadata": {},
   "source": [
    "(sale_date, fruit) is the primary key for this table. This table contains the sales of \"apples\" and \"oranges\" sold each day.\n",
    "\n",
    "| Column Name   | Type    |\n",
    "|---------------|---------|\n",
    "| sale_date     | date    |\n",
    "| fruit         | enum    | \n",
    "| sold_num      | int     | "
   ]
  },
  {
   "cell_type": "markdown",
   "id": "d0f44efa",
   "metadata": {},
   "source": [
    "Write an SQL query to report the difference between the number of apples and oranges sold each day.\n",
    "\n",
    "Return the result table ordered by sale_date.\n",
    "\n",
    "The query result format is in the following example."
   ]
  },
  {
   "cell_type": "markdown",
   "id": "808acb96",
   "metadata": {},
   "source": [
    "| sale_date  | diff         |\n",
    "|------------|--------------|\n",
    "| 2021-03-01 | 25           |\n",
    "| 2021-03-02 | -12          |\n",
    "| 2021-03-03 | 1            |\n",
    "| 2021-03-04 | 0            |"
   ]
  },
  {
   "cell_type": "code",
   "execution_count": 3,
   "id": "665db392",
   "metadata": {},
   "outputs": [],
   "source": [
    "%sql sqlite:///fruit.db"
   ]
  },
  {
   "cell_type": "code",
   "execution_count": 4,
   "id": "27eebe82",
   "metadata": {},
   "outputs": [
    {
     "name": "stdout",
     "output_type": "stream",
     "text": [
      " * sqlite:///fruit.db\n",
      "Done.\n"
     ]
    },
    {
     "data": {
      "text/plain": [
       "[]"
      ]
     },
     "execution_count": 4,
     "metadata": {},
     "output_type": "execute_result"
    }
   ],
   "source": [
    "%%sql\n",
    "\n",
    "/* insert sql here */"
   ]
  }
 ],
 "metadata": {
  "kernelspec": {
   "display_name": "Python 3 (ipykernel)",
   "language": "python",
   "name": "python3"
  },
  "language_info": {
   "codemirror_mode": {
    "name": "ipython",
    "version": 3
   },
   "file_extension": ".py",
   "mimetype": "text/x-python",
   "name": "python",
   "nbconvert_exporter": "python",
   "pygments_lexer": "ipython3",
   "version": "3.10.8"
  }
 },
 "nbformat": 4,
 "nbformat_minor": 5
}
